{
  "nbformat": 4,
  "nbformat_minor": 0,
  "metadata": {
    "colab": {
      "name": "Openpose1.7.0.ipynb",
      "provenance": []
    },
    "kernelspec": {
      "name": "python3",
      "display_name": "Python 3"
    },
    "accelerator": "GPU"
  },
  "cells": [
    {
      "cell_type": "markdown",
      "metadata": {
        "id": "0hLhuliurW6c"
      },
      "source": [
        "# Openpose 1.7.0 Demo"
      ]
    },
    {
      "cell_type": "code",
      "source": [
        "! apt update\n",
        "! apt install -y cmake sudo libopencv-dev\n",
        "! git clone https://github.com/CMU-Perceptual-Computing-Lab/openpose.git\n",
        "! cd openpose/ubuntu && ./install_cmake.sh && ./install_cuda.sh && ./install_cudnn.sh\n",
        "! cd openpose && git pull origin master && rm -r build || true && mkdir build && cd build && cmake .. && make -j`nproc`\n",
        "\n",
        "# example demo usage\n",
        "!cd openpose && ./build/examples/openpose/openpose.bin --video examples/media/video.avi --write_json output/ --display 0 --render_pose 0"
      ],
      "metadata": {
        "id": "8z_EyFu8QHfG",
        "outputId": "53cdd75c-a5f8-4b6e-ca8c-a21a8ee2ed23",
        "colab": {
          "base_uri": "https://localhost:8080/"
        }
      },
      "execution_count": 2,
      "outputs": [
        {
          "output_type": "stream",
          "name": "stdout",
          "text": [
            "\u001b[33m\r0% [Working]\u001b[0m\r            \rGet:1 https://cloud.r-project.org/bin/linux/ubuntu jammy-cran40/ InRelease [3,632 B]\n",
            "\u001b[33m\r0% [Connecting to archive.ubuntu.com] [Waiting for headers] [1 InRelease 3,632 B/3,632 B 100%] [Conn\u001b[0m\r                                                                                                    \rGet:2 https://developer.download.nvidia.com/compute/cuda/repos/ubuntu2204/x86_64  InRelease [1,581 B]\n",
            "Get:3 http://security.ubuntu.com/ubuntu jammy-security InRelease [129 kB]\n",
            "Get:4 https://developer.download.nvidia.com/compute/cuda/repos/ubuntu2204/x86_64  Packages [1,317 kB]\n",
            "Get:5 https://r2u.stat.illinois.edu/ubuntu jammy InRelease [6,555 B]\n",
            "Hit:6 http://archive.ubuntu.com/ubuntu jammy InRelease\n",
            "Get:7 http://archive.ubuntu.com/ubuntu jammy-updates InRelease [128 kB]\n",
            "Get:8 https://r2u.stat.illinois.edu/ubuntu jammy/main amd64 Packages [2,659 kB]\n",
            "Get:9 http://security.ubuntu.com/ubuntu jammy-security/main amd64 Packages [2,610 kB]\n",
            "Hit:10 https://ppa.launchpadcontent.net/deadsnakes/ppa/ubuntu jammy InRelease\n",
            "Hit:11 https://ppa.launchpadcontent.net/graphics-drivers/ppa/ubuntu jammy InRelease\n",
            "Get:12 http://security.ubuntu.com/ubuntu jammy-security/universe amd64 Packages [1,230 kB]\n",
            "Get:13 https://r2u.stat.illinois.edu/ubuntu jammy/main all Packages [8,682 kB]\n",
            "Hit:14 https://ppa.launchpadcontent.net/ubuntugis/ppa/ubuntu jammy InRelease\n",
            "Get:15 http://archive.ubuntu.com/ubuntu jammy-backports InRelease [127 kB]\n",
            "Get:16 http://archive.ubuntu.com/ubuntu jammy-updates/main amd64 Packages [2,912 kB]\n",
            "Get:17 http://archive.ubuntu.com/ubuntu jammy-updates/universe amd64 Packages [1,526 kB]\n",
            "Fetched 21.3 MB in 2s (9,113 kB/s)\n",
            "Reading package lists... Done\n",
            "Building dependency tree... Done\n",
            "Reading state information... Done\n",
            "25 packages can be upgraded. Run 'apt list --upgradable' to see them.\n",
            "\u001b[1;33mW: \u001b[0mSkipping acquire of configured file 'main/source/Sources' as repository 'https://r2u.stat.illinois.edu/ubuntu jammy InRelease' does not seem to provide it (sources.list entry misspelt?)\u001b[0m\n",
            "Reading package lists... Done\n",
            "Building dependency tree... Done\n",
            "Reading state information... Done\n",
            "cmake is already the newest version (3.22.1-1ubuntu1.22.04.2).\n",
            "sudo is already the newest version (1.9.9-1ubuntu2.4).\n",
            "libopencv-dev is already the newest version (4.5.4+dfsg-9ubuntu4+jammy0).\n",
            "0 upgraded, 0 newly installed, 0 to remove and 25 not upgraded.\n",
            "Cloning into 'openpose'...\n",
            "remote: Enumerating objects: 16156, done.\u001b[K\n",
            "remote: Total 16156 (delta 0), reused 0 (delta 0), pack-reused 16156 (from 1)\u001b[K\n",
            "Receiving objects: 100% (16156/16156), 84.46 MiB | 30.69 MiB/s, done.\n",
            "Resolving deltas: 100% (11324/11324), done.\n",
            "/bin/bash: line 1: cd: openpose/ubuntu: No such file or directory\n",
            "From https://github.com/CMU-Perceptual-Computing-Lab/openpose\n",
            " * branch            master     -> FETCH_HEAD\n",
            "Already up to date.\n",
            "rm: cannot remove 'build': No such file or directory\n",
            "\u001b[33mCMake Warning (dev) at CMakeLists.txt:19 (project):\n",
            "  cmake_minimum_required() should be called prior to this top-level project()\n",
            "  call.  Please see the cmake-commands(7) manual for usage documentation of\n",
            "  both commands.\n",
            "This warning is for project developers.  Use -Wno-dev to suppress it.\n",
            "\u001b[0m\n",
            "-- The C compiler identification is GNU 11.4.0\n",
            "-- The CXX compiler identification is GNU 11.4.0\n",
            "-- Detecting C compiler ABI info\n",
            "-- Detecting C compiler ABI info - done\n",
            "-- Check for working C compiler: /usr/bin/cc - skipped\n",
            "-- Detecting C compile features\n",
            "-- Detecting C compile features - done\n",
            "-- Detecting CXX compiler ABI info\n",
            "-- Detecting CXX compiler ABI info - done\n",
            "-- Check for working CXX compiler: /usr/bin/c++ - skipped\n",
            "-- Detecting CXX compile features\n",
            "-- Detecting CXX compile features - done\n",
            "\u001b[0mCMake Deprecation Warning at CMakeLists.txt:34 (cmake_minimum_required):\n",
            "  Compatibility with CMake < 3.10 will be removed from a future version of\n",
            "  CMake.\n",
            "\n",
            "  Update the VERSION argument <min> value.  Or, use the <min>...<max> syntax\n",
            "  to tell CMake that the project requires at least <min> but has been updated\n",
            "  to work with policies introduced by <max> or earlier.\n",
            "\n",
            "\u001b[0m\n",
            "-- GCC detected, adding compile flags\n",
            "-- GCC detected, adding compile flags\n",
            "\u001b[33mCMake Warning (dev) at CMakeLists.txt:214 (find_package):\n",
            "  Policy CMP0146 is not set: The FindCUDA module is removed.  Run \"cmake\n",
            "  --help-policy CMP0146\" for policy details.  Use the cmake_policy command to\n",
            "  set the policy and suppress this warning.\n",
            "\n",
            "This warning is for project developers.  Use -Wno-dev to suppress it.\n",
            "\u001b[0m\n",
            "-- Performing Test CMAKE_HAVE_LIBC_PTHREAD\n",
            "-- Performing Test CMAKE_HAVE_LIBC_PTHREAD - Success\n",
            "-- Found Threads: TRUE\n",
            "-- Found CUDA: /usr/local/cuda (found version \"12.5\")\n",
            "-- Building with CUDA.\n",
            "\u001b[33mCMake Warning (dev) at CMakeLists.txt:353 (find_package):\n",
            "  Policy CMP0146 is not set: The FindCUDA module is removed.  Run \"cmake\n",
            "  --help-policy CMP0146\" for policy details.  Use the cmake_policy command to\n",
            "  set the policy and suppress this warning.\n",
            "\n",
            "This warning is for project developers.  Use -Wno-dev to suppress it.\n",
            "\u001b[0m\n",
            "\u001b[33mCMake Warning (dev) at cmake/Cuda.cmake:282 (find_package):\n",
            "  Policy CMP0146 is not set: The FindCUDA module is removed.  Run \"cmake\n",
            "  --help-policy CMP0146\" for policy details.  Use the cmake_policy command to\n",
            "  set the policy and suppress this warning.\n",
            "\n",
            "Call Stack (most recent call first):\n",
            "  CMakeLists.txt:424 (include)\n",
            "This warning is for project developers.  Use -Wno-dev to suppress it.\n",
            "\u001b[0m\n",
            "-- CUDA detected: 12.5\n",
            "-- Found cuDNN: ver. 9.2.1 found (include: /usr/include, library: /usr/lib/x86_64-linux-gnu/libcudnn.so)\n",
            "-- Added CUDA NVCC flags for: sm_75\n",
            "-- Found cuDNN: ver. 9.2.1 found (include: /usr/include, library: /usr/lib/x86_64-linux-gnu/libcudnn.so)\n",
            "-- Could NOT find GFlags (missing: GFLAGS_INCLUDE_DIR GFLAGS_LIBRARY) \n",
            "-- Could NOT find Glog (missing: GLOG_INCLUDE_DIR GLOG_LIBRARY) \n",
            "\u001b[31mCMake Error at /usr/local/lib/python3.11/dist-packages/cmake/data/share/cmake-3.31/Modules/FindPackageHandleStandardArgs.cmake:233 (message):\n",
            "  Could NOT find Protobuf (missing: Protobuf_LIBRARIES Protobuf_INCLUDE_DIR)\n",
            "Call Stack (most recent call first):\n",
            "  /usr/local/lib/python3.11/dist-packages/cmake/data/share/cmake-3.31/Modules/FindPackageHandleStandardArgs.cmake:603 (_FPHSA_FAILURE_MESSAGE)\n",
            "  /usr/local/lib/python3.11/dist-packages/cmake/data/share/cmake-3.31/Modules/FindProtobuf.cmake:772 (FIND_PACKAGE_HANDLE_STANDARD_ARGS)\n",
            "  CMakeLists.txt:429 (find_package)\n",
            "\n",
            "\u001b[0m\n",
            "-- Configuring incomplete, errors occurred!\n",
            "/bin/bash: line 1: ./build/examples/openpose/openpose.bin: No such file or directory\n"
          ]
        }
      ]
    },
    {
      "cell_type": "code",
      "metadata": {
        "id": "hp8rTOJ30J-b"
      },
      "source": [
        "# 最初に、ランタイムの種類を「GPU」に変更してください。（ランタイム＞ランタイムのタイプを変更）\n",
        "# GPUが有効になっていることを確認します。\n",
        "\n",
        "# First, change the runtime type to \"GPU\".\n",
        "# Confirm runtime to GPU\n",
        "! nvcc --version\n",
        "! nvidia-smi"
      ],
      "execution_count": null,
      "outputs": []
    },
    {
      "cell_type": "code",
      "metadata": {
        "id": "h_ddqkdp0euj"
      },
      "source": [
        "# Openpose バージョン指定タグ\n",
        "# Openpose version tag\n",
        "ver_openpose = \"v1.7.0\"\n",
        "! echo $ver_openpose"
      ],
      "execution_count": null,
      "outputs": []
    },
    {
      "cell_type": "code",
      "metadata": {
        "id": "WtlM7y630hKK"
      },
      "source": [
        "# CMakeが古いとOpenpose（CUDA10)が失敗するので、バージョンを確認します。（BugfixはCMake 3.12.3）\n",
        "# If CMake is old, Openpose build fails, so download the latest version\n",
        "# https://developercommunity.visualstudio.com/content/problem/354325/cmake-project-cannot-detect-cuda-10.html\n",
        "! cmake --version"
      ],
      "execution_count": null,
      "outputs": []
    },
    {
      "cell_type": "code",
      "metadata": {
        "id": "vjElcN2T0unQ"
      },
      "source": [
        "# 2021.03.03時点の最新CMakeを再ビルド（15分くらい）\n",
        "# Rebuild the latest CMake as of 2021.03.03 (about 15 minutes)\n",
        "! wget -c \"https://github.com/Kitware/CMake/releases/download/v3.19.6/cmake-3.19.6.tar.gz\"\n",
        "! tar xf cmake-3.19.6.tar.gz\n",
        "! cd cmake-3.19.6 && ./configure && make && sudo make install"
      ],
      "execution_count": null,
      "outputs": []
    },
    {
      "cell_type": "code",
      "metadata": {
        "id": "nBqcGCVZ1OKs"
      },
      "source": [
        "# ライブラリインストール\n",
        "# Install library\n",
        "\n",
        "# Basic\n",
        "! sudo apt-get --assume-yes update\n",
        "! sudo apt-get --assume-yes install build-essential\n",
        "# OpenCV\n",
        "! sudo apt-get --assume-yes install libopencv-dev\n",
        "# General dependencies\n",
        "! sudo apt-get --assume-yes install libatlas-base-dev libprotobuf-dev libleveldb-dev libsnappy-dev libhdf5-serial-dev protobuf-compiler\n",
        "! sudo apt-get --assume-yes install --no-install-recommends libboost-all-dev\n",
        "# Remaining dependencies, 14.04\n",
        "! sudo apt-get --assume-yes install libgflags-dev libgoogle-glog-dev liblmdb-dev\n",
        "# Python3 libs\n",
        "! sudo apt-get --assume-yes install python3-setuptools python3-dev build-essential\n",
        "! sudo apt-get --assume-yes install python3-pip\n",
        "! sudo -H pip3 install --upgrade numpy protobuf opencv-python\n",
        "# OpenCL Generic\n",
        "! sudo apt-get --assume-yes install opencl-headers ocl-icd-opencl-dev\n",
        "! sudo apt-get --assume-yes install libviennacl-dev"
      ],
      "execution_count": null,
      "outputs": []
    },
    {
      "cell_type": "code",
      "metadata": {
        "id": "AxvRJiaK1QXt",
        "outputId": "8a8b66c6-acc8-454e-caa6-a230ca72f32d",
        "colab": {
          "base_uri": "https://localhost:8080/"
        }
      },
      "source": [
        "# Openposeのコードをclone\n",
        "# Clone Openpose\n",
        "! git clone  --depth 1 -b \"$ver_openpose\" https://github.com/CMU-Perceptual-Computing-Lab/openpose.git"
      ],
      "execution_count": 1,
      "outputs": [
        {
          "output_type": "stream",
          "name": "stdout",
          "text": [
            "Cloning into 'openpose'...\n",
            "warning: Could not find remote branch  to clone.\n",
            "fatal: Remote branch  not found in upstream origin\n"
          ]
        }
      ]
    },
    {
      "cell_type": "code",
      "metadata": {
        "id": "B7vM17cQ1v3p"
      },
      "source": [
        "# build用ディレクトリを作成\n",
        "# Create build directory\n",
        "! cd openpose && mkdir build && cd build"
      ],
      "execution_count": null,
      "outputs": []
    },
    {
      "cell_type": "code",
      "metadata": {
        "id": "bhCJ4zsf2AMa"
      },
      "source": [
        "# https://github.com/CMU-Perceptual-Computing-Lab/openpose/blob/master/doc/installation.md#cmake-command-line-configuration-ubuntu-only\n",
        "# 上記インストール手順のシナリオ１でインストール実行\n",
        "# Scenario 1 - Caffe not installed and OpenCV installed using apt-get\n",
        "! cd openpose/build && cmake ..\n",
        "\n",
        "# COCOモデルのDLオプション付き(「# ! cd」の部分を「! cd」に変更してください。)\n",
        "# If you want to download the COCO model as well, execute the following command. (Please change \"# ! cd\" part to \"! cd\".)\n",
        "# ! cd openpose/build && cmake .. -D DOWNLOAD_BODY_COCO_MODEL=ON\n",
        "\n",
        "# MPIモデルのDLオプション付き（同上）\n",
        "# If you want to download the MPI model as well, execute the following command.\n",
        "# ! cd openpose/build && cmake .. -D DOWNLOAD_BODY_MPI_MODEL=ON"
      ],
      "execution_count": null,
      "outputs": []
    },
    {
      "cell_type": "code",
      "metadata": {
        "id": "L4Zf78976MKN"
      },
      "source": [
        "# Openposeのビルド（15分くらい）\n",
        "# Openpose Building\n",
        "! cd openpose/build && make -j`nproc`\n",
        "# outputフォルダ作成\n",
        "! cd openpose && mkdir output"
      ],
      "execution_count": null,
      "outputs": []
    },
    {
      "cell_type": "code",
      "metadata": {
        "id": "FHajFlRk50Ha"
      },
      "source": [
        "# デモ動画を解析\n",
        "# 出力された解析結果は、Colab画面の左メニューのフォルダアイコンから「openpose/output」以下に配置されます。\n",
        "# Run and check the sample\n",
        "# The output analysis result is placed under \"openpose/output\" from the folder icon on the left menu of the Colab screen.\n",
        "! cd openpose && ./build/examples/openpose/openpose.bin --video examples/media/video.avi --display 0  --write_video ./output/openpose.avi"
      ],
      "execution_count": null,
      "outputs": []
    },
    {
      "cell_type": "code",
      "metadata": {
        "id": "iu-mWWJmpzCX"
      },
      "source": [
        "# デモ動画の結果をffmpegで再エンコードして表示します。少し時間がかかります。\n",
        "# The result of the demo video is re-encoded with ffmpeg and displayed. It will take some time.\n",
        "! ffmpeg -i \"./openpose/output/openpose.avi\" -c:v libvpx-vp9 -b:v 1000K -r 30 -threads 8 -speed 1 -tile-columns 6 -frame-parallel 1 -auto-alt-ref 1 -lag-in-frames 25 -c:a libopus -b:a 64k -f webm -y out.webm\n",
        "\n",
        "from IPython.display import HTML\n",
        "import base64\n",
        "import io\n",
        "\n",
        "video = io.open('./out.webm', 'r+b').read()\n",
        "encoded = base64.b64encode(video)\n",
        "data  = '''\n",
        "<video id=\"out\" width=\"1280\" height=\"720\" controls><source src=\"data:video/mp4;base64,{0}\" type=\"video/mp4\" /></video>\n",
        "'''.format(encoded.decode('ascii'))\n",
        "\n",
        "HTML(data)"
      ],
      "execution_count": null,
      "outputs": []
    },
    {
      "cell_type": "code",
      "metadata": {
        "id": "i_MzrC8EHHdv"
      },
      "source": [
        "from google.colab import drive\n",
        "import os\n",
        "\n",
        "# Googleドライブマウント\n",
        "# マウントすると、アクセス許可が求められるので、許可して、キーをコピーして、Colab側の入力欄にCtrl+Vで貼り付けて、Enter。\n",
        "# mount Google Drive\n",
        "# When you mount it, you will be asked for permission, so allow it, copy the key, paste(Ctrl+V) it in the input field on the Colab side, and press Enter.\n",
        "drive.mount('/gdrive')\n",
        "\n",
        "# Google Drive のルートディレクトリ\n",
        "# Google Drive root directory\n",
        "root_path = \"/gdrive/My Drive/\"\n",
        "\n",
        "# Googleドライブ上で解析したい動画パス（この値を好きな値に変更する事で、ご自分のGoogleドライブ上の動画を解析できます）\n",
        "# Video path that you want to analyze on Google Drive (You can analyze the video on your own Google Drive by changing this value to a value you like)\n",
        "file_path = \"autotrace/input.mp4\"\n",
        "\n",
        "# Googleドライブ上の動画を解析（Googleドライブのルートディレクトリに解析結果の「openpose.avi」が出力されます）\n",
        "# Analyze video on Google Drive (The analysis result \"openpose.avi\" is output to the root directory of Google Drive)\n",
        "! cd openpose && ./build/examples/openpose/openpose.bin --video \"$root_path/$file_path\" --display 0  --write_video \"$root_path/openpose.avi\""
      ],
      "execution_count": null,
      "outputs": []
    },
    {
      "cell_type": "code",
      "metadata": {
        "id": "z0FxCZ0BqyA7"
      },
      "source": [
        "# Googleドライブ上の解析結果動画をffmpegで再エンコードして表示します。少し時間がかかります。\n",
        "# The analysis result video on Google Drive is re-encoded with ffmpeg and displayed. It will take some time.\n",
        "! ffmpeg -i \"$root_path/openpose.avi\" -c:v libvpx-vp9 -b:v 1000K -r 30 -threads 8 -speed 1 -tile-columns 6 -frame-parallel 1 -auto-alt-ref 1 -lag-in-frames 25 -c:a libopus -b:a 64k -f webm -y out.webm\n",
        "\n",
        "from IPython.display import HTML\n",
        "import base64\n",
        "import io\n",
        "\n",
        "video = io.open('./out.webm', 'r+b').read()\n",
        "encoded = base64.b64encode(video)\n",
        "data  = '''\n",
        "<video id=\"out\" width=\"1280\" height=\"720\" controls><source src=\"data:video/mp4;base64,{0}\" type=\"video/mp4\" /></video>\n",
        "'''.format(encoded.decode('ascii'))\n",
        "\n",
        "HTML(data)"
      ],
      "execution_count": null,
      "outputs": []
    },
    {
      "cell_type": "code",
      "metadata": {
        "id": "-iJ7aREyJWxv"
      },
      "source": [
        "# 指定した人数分のみ解析したい場合、「number_people_max」の後ろに人数を指定して下さい\n",
        "# If you want to analyze only the specified number of people, please specify the number of people after \"number_people_max\"\n",
        "# 結果はひとつ上のコードを再実行する事でブラウザ上で確認できます。\n",
        "# The result can be confirmed on the browser by re-executing the code one level above.\n",
        "! cd openpose && ./build/examples/openpose/openpose.bin --video \"$root_path/$file_path\" --display 0  --write_video \"$root_path/openpose.avi\" --number_people_max 1"
      ],
      "execution_count": null,
      "outputs": []
    },
    {
      "cell_type": "code",
      "metadata": {
        "id": "Nh9f-GTcKJ3u"
      },
      "source": [
        "# 手の解析も一緒に行いたい場合、「--hand」を追加してください\n",
        "# If you also want to analyze the hands together, add \"--hand\"\n",
        "# 結果は２つ上のコードを再実行する事でブラウザ上で確認できます。\n",
        "# The result can be confirmed on the browser by re-executing the code two level above.\n",
        "! cd openpose && ./build/examples/openpose/openpose.bin --video \"$root_path/$file_path\" --display 0  --write_video \"$root_path/openpose.avi\" --hand"
      ],
      "execution_count": null,
      "outputs": []
    },
    {
      "cell_type": "code",
      "metadata": {
        "id": "1czsW7anKZbg"
      },
      "source": [
        "# 顔の解析も一緒に行いたい場合、「--face」を追加してください\n",
        "# If you also want to analyze the hands together, add \"--hand\"\n",
        "# 結果は３つ上のコードを再実行する事でブラウザ上で確認できます。\n",
        "# The result can be confirmed on the browser by re-executing the code three level above.\n",
        "! cd openpose && ./build/examples/openpose/openpose.bin --video \"$root_path/$file_path\" --display 0  --write_video \"$root_path/openpose.avi\" --face"
      ],
      "execution_count": null,
      "outputs": []
    }
  ]
}